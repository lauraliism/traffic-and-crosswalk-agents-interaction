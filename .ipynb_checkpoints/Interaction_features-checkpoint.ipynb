{
 "cells": [
  {
   "cell_type": "markdown",
   "metadata": {},
   "source": [
    "# Prepare data for the model\n",
    "\n",
    "Articles:  \n",
    "1 - \"Analysis of vehicle-bicycle interactions at unsignalized crossings: A probabilistic approach and application\"  \n",
    "2 - \"When do drivers yield to cyclists at unsignalized roundabouts? Empirical evidence and behavioral analysis\"\n",
    "\n",
    "\n",
    "Based on literature what features should be taken into account: \n",
    "* <b>car speed </b> [1]\n",
    "* <b>bicycle distance from the conflict zone </b> [1] [2]\n",
    "* <b>arrival time difference at the boundary of each interaction zone </b> [2]\n",
    "\n",
    "\n",
    "# In this notebook:\n",
    "* Create features: \n",
    "    - car speed\n",
    "    - bicycle distance from the conflict zone\n",
    "    - arrival time difference at the boundary of each interaction zone\n",
    "    \n",
    "* Label data"
   ]
  },
  {
   "cell_type": "code",
   "execution_count": 1,
   "metadata": {},
   "outputs": [],
   "source": [
    "import numpy as np\n",
    "import matplotlib.pyplot as plt\n",
    "import sklearn as sklearn\n",
    "import tensorflow as tf\n",
    "import csv\n",
    "import io\n",
    "import pandas as pd\n",
    "\n",
    "from datetime import datetime\n",
    "from scipy.spatial import distance\n",
    "\n",
    "\n",
    "# Import from other files\n",
    "#from functions import animateTrajectories\n",
    "#from functions import drawConflictZone"
   ]
  },
  {
   "cell_type": "markdown",
   "metadata": {},
   "source": [
    "### Constants"
   ]
  },
  {
   "cell_type": "code",
   "execution_count": 2,
   "metadata": {},
   "outputs": [],
   "source": [
    "INTERACTIONS_FILE_NAME = 'interactions.csv'"
   ]
  },
  {
   "cell_type": "markdown",
   "metadata": {},
   "source": [
    "### Read interactions from the interactions.csv file"
   ]
  },
  {
   "cell_type": "code",
   "execution_count": 3,
   "metadata": {},
   "outputs": [],
   "source": [
    "def convertStringToFloatArray(coordString):\n",
    "    list = csv.DictReader(io.StringIO(coordString))\n",
    "    # returns: ['[[26.6613331938]', ' [25.7778384119]', ... \n",
    "    \n",
    "    coordsArray = []\n",
    "    for index, string in enumerate(list.fieldnames):\n",
    "        \n",
    "        # Remove spaces from before and after the string\n",
    "        # Also remove the \"[\" from the beginning and \"]\" from the end\n",
    "        adjustedString = string.strip()[1:-1]\n",
    "        \n",
    "        if (index == 0):\n",
    "            # Firsst string contains 2 of these \"[[\" and initial \"[\"  has already been removd above\n",
    "            adjustedString = adjustedString[1:]\n",
    "            \n",
    "        if (index == len(list.fieldnames)-1):\n",
    "            # Last string contains 2 of these \"]]\" and initial \"]\"  has already been removd above\n",
    "            adjustedString = adjustedString[:-1]\n",
    "             \n",
    "        coordsArray.append(adjustedString)\n",
    "        \n",
    "    \n",
    "    # Let's convert to np.array of floats\n",
    "    np_coordsArray = np.asarray(coordsArray, dtype=np.float64).tolist() \n",
    "    \n",
    "    #print(' ---- np_coordsArray ----- ', np_coordsArray)\n",
    "    return np_coordsArray\n"
   ]
  },
  {
   "cell_type": "code",
   "execution_count": 4,
   "metadata": {},
   "outputs": [],
   "source": [
    "def restructureData(column_names, data):\n",
    "    restructured_data = {}\n",
    "    \n",
    "    for insteraction_id in data.get('InteractionID'):\n",
    "        restructured_data[insteraction_id] = []\n",
    "    \n",
    "    for i in range(len(data)):    \n",
    "        restructured_instance = {}\n",
    "        insteraction_id = data.get('InteractionID')[i]\n",
    "\n",
    "        #print('column_names!!', column_names)\n",
    "        for name in column_names:\n",
    "            restructured_instance[name] = data.get(name)[i]\n",
    "        \n",
    "        restructured_data[insteraction_id].append(restructured_instance)\n",
    "\n",
    "        \n",
    "    print('Number of interactions: ', len(restructured_data))  \n",
    "    print('First instance:', restructured_data[0])\n",
    "    \n",
    "    return restructured_data\n",
    "    \n",
    "\n",
    "def readFromCsvFile():\n",
    "    \n",
    "    df = pd.read_csv(INTERACTIONS_FILE_NAME, sep=',', converters={'Sec': convertStringToFloatArray, 'Xcoord': convertStringToFloatArray, \n",
    "                                                                 'Ycoord': convertStringToFloatArray, 'DateTime': convertStringToFloatArray,\n",
    "                                                                 'Speed': convertStringToFloatArray})\n",
    "    column_names = list(df.head())\n",
    "\n",
    "    restructured_data = restructureData(column_names, df)\n",
    "    \n",
    "    #print(restructured_data[0])\n",
    "    return restructured_data\n"
   ]
  },
  {
   "cell_type": "code",
   "execution_count": 5,
   "metadata": {
    "scrolled": false
   },
   "outputs": [
    {
     "name": "stdout",
     "output_type": "stream",
     "text": [
      "Number of interactions:  520\n",
      "First instance: [{'InteractionID': 0, 'CarID': 296, 'ID': 296, 'DateTime': [736942.6628986342, 736942.6629015394, 736942.6629043982, 736942.6629072222, 736942.6629101273, 736942.6629129514, 736942.6629158565, 736942.6629186689, 736942.6629215741, 736942.6629244097, 736942.6629272685, 736942.6629301967, 736942.6629329977, 736942.662935868, 736942.6629387268, 736942.6629415972, 736942.6629444908, 736942.6629473264, 736942.6629501968, 736942.6629530556, 736942.6629559259, 736942.6629587847, 736942.6629616551, 736942.6629645717, 736942.6629673959, 736942.6630084838, 736942.6630113426, 736942.6630142014, 736942.6630170601, 736942.6630199306, 736942.6630227894, 736942.6630256597, 736942.6630285301, 736942.6630314004, 736942.6630342477, 736942.663037118, 736942.663038831, 736942.6630487615, 736942.6630516088, 736942.6630909606, 736942.6630938194, 736942.6630966899, 736942.6630972569], 'Sec': [1504540474.442, 1504540474.693, 1504540474.94, 1504540475.184, 1504540475.435, 1504540475.679, 1504540475.93, 1504540476.173, 1504540476.424, 1504540476.669, 1504540476.916, 1504540477.169, 1504540477.411, 1504540477.659, 1504540477.906, 1504540478.154, 1504540478.404, 1504540478.649, 1504540478.897, 1504540479.144, 1504540479.392, 1504540479.639, 1504540479.887, 1504540480.139, 1504540480.383, 1504540483.933, 1504540484.18, 1504540484.427, 1504540484.674, 1504540484.922, 1504540485.169, 1504540485.417, 1504540485.665, 1504540485.913, 1504540486.159, 1504540486.407, 1504540486.555, 1504540487.413, 1504540487.659, 1504540491.059, 1504540491.306, 1504540491.554, 1504540491.603], 'Xcoord': [26.6613331938, 25.7778384119, 24.4089994135, 23.7912491859, 23.2819825638, 22.6920558703, 22.3088257926, 21.7360412524, 21.2701138694, 20.7636577648, 20.1718807711, 19.5560318883, 19.0288824332, 18.6398682289, 18.2244422761, 17.7327399727, 17.2596735118, 16.842334195, 16.4922869095, 16.1683987337, 15.7494148419, 15.2439783021, 14.6649146871, 14.1967335456, 13.7298011678, 11.0880669253, 9.72874445253, 8.30412861887, 6.89375591753, 5.47106471024, 4.08431227534, 2.68092986101, 1.2137159692, -0.320484112234, -1.73419120069, -2.78716084354, -4.21442192665, -9.34763409915, -10.6796551277, -29.5536552155, -29.9430200386, -32.2348456582, -32.5780833799], 'Ycoord': [-18.4036215072, -17.7473015992, -16.9668888701, -16.500716224, -15.8945652761, -15.2982917272, -14.7752607958, -14.289996876, -13.8631423751, -13.4188192836, -12.9351978139, -12.5086699628, -12.1719549033, -11.8467166287, -11.5497545125, -11.2482472328, -10.951978622, -10.7082193961, -10.4600308899, -10.2167503336, -9.95531352679, -9.63197780381, -9.10041263001, -8.65939526627, -8.2716658153, -6.37077311922, -5.38725587667, -4.49566806828, -3.71248102971, -2.91019243009, -2.22745542347, -1.52296396459, -0.811355431584, -0.102090268023, 0.627839722395, 1.26974747618, 1.40885761912, 3.44366937797, 3.92341793867, 7.26317495304, 7.22964386236, 8.29538893283, 8.69585984311], 'Speed': [3.08102580335, 12.4167288091, 18.4838357672, 15.5110813531, 13.8767351165, 13.4167456781, 12.1927718472, 11.9382608277, 11.1566027286, 10.8214358876, 10.9137933069, 10.8878930579, 10.4315907247, 9.56708733861, 8.95111347197, 8.78188776389, 8.55871875384, 8.16718156323, 7.63171147944, 7.17910513438, 7.23486250807, 7.6971912707, 8.74170689061, 8.85404483469, 8.88764189093, 23.4018440828, 24.0895552321, 24.0512099063, 23.5712252141, 23.4336112647, 22.9229044424, 22.7050636114, 22.7796382859, 23.0144880272, 22.847866536, 21.3703493929, 23.2650501174, 22.4373412584, 22.1269414134, 23.5324451793, 15.81561832, 23.356642184, 24.3064435392], 'AgentType': 2, 'Estimate': '[[1], [0], [0], [0], [0], [0], [0], [0], [0], [0], [0], [0], [0], [0], [0], [0], [0], [0], [0], [0], [0], [0], [0], [0], [0], [1], [0], [0], [0], [0], [0], [0], [0], [0], [0], [0], [0], [0], [0], [1], [0], [0], [0]]', 'csvFile': 6}, {'InteractionID': 0, 'CarID': 296, 'ID': 12026, 'DateTime': [736942.6628481018, 736942.6628509606, 736942.6628538194, 736942.6628566898, 736942.6628595949, 736942.662862419, 736942.6628652777, 736942.6628681482, 736942.662871007, 736942.6628738773, 736942.6628767361, 736942.662879595, 736942.6628824653, 736942.6628853241, 736942.6628882408, 736942.6628910532, 736942.6628939467, 736942.6628967824, 736942.6628996527, 736942.6629025115, 736942.662905382, 736942.6629082407, 736942.6629110995, 736942.66291397, 736942.6629168286, 736942.6629196991, 736942.6629225579, 736942.6629254167, 736942.662928287, 736942.6629638078, 736942.6629666666, 736942.6629695254, 736942.6629723958, 736942.6629752546, 736942.662978125, 736942.6629809838, 736942.6629839005, 736942.6629867245, 736942.6629896297, 736942.6629925115, 736942.662995301, 736942.6629981713], 'Sec': [1504540470.076, 1504540470.323, 1504540470.57, 1504540470.818, 1504540471.069, 1504540471.313, 1504540471.56, 1504540471.808, 1504540472.055, 1504540472.303, 1504540472.55, 1504540472.797, 1504540473.045, 1504540473.292, 1504540473.544, 1504540473.787, 1504540474.037, 1504540474.282, 1504540474.53, 1504540474.777, 1504540475.025, 1504540475.272, 1504540475.519, 1504540475.767, 1504540476.014, 1504540476.262, 1504540476.509, 1504540476.756, 1504540477.004, 1504540480.073, 1504540480.32, 1504540480.567, 1504540480.815, 1504540481.062, 1504540481.31, 1504540481.557, 1504540481.809, 1504540482.053, 1504540482.304, 1504540482.553, 1504540482.794, 1504540483.042], 'Xcoord': [-18.0626008397, -17.649399756, -17.0124111051, -16.347335476, -15.6692024238, -15.0203194147, -14.3495402101, -13.6475386415, -12.989321831, -12.3270456172, -11.6664780624, -11.0414297285, -10.4725374938, -9.93294096401, -9.48335237567, -8.98051177733, -8.44622382016, -7.92700075348, -7.47508717412, -7.04016890047, -6.61458708974, -6.27161164822, -6.03174307644, -5.81329852491, -5.75583617115, -5.76913564658, -5.63371171375, -5.57723780142, -5.47669031506, -3.20626989739, -2.894397029, -2.53058903571, -2.11511549016, -1.6310174732, -1.25213087355, -0.820215542557, -0.326273226217, 0.154852320386, 0.627604847585, 1.19077317948, 1.80355802561, 2.556546419], 'Ycoord': [-3.47456038593, -3.51120309955, -3.7310564605, -3.98683432087, -4.25827338473, -4.52484877656, -4.800887877, -5.10775657078, -5.35724362472, -5.59054269054, -5.78586702796, -5.91455999288, -5.98134069071, -5.98162391515, -5.85495435958, -5.74468722646, -5.59799022106, -5.36016855786, -4.97485553233, -4.5857299248, -4.26656319766, -3.91538310834, -3.49888628964, -3.08923221542, -2.5925522743, -1.60761370075, -1.20275120593, -0.940643715066, -0.945318617886, 7.14576559839, 7.42433898057, 7.9792317121, 8.66965932496, 9.40848995898, 10.1769293948, 11.0212882793, 11.7030662952, 12.4331064004, 13.9482920053, 14.5500799663, 15.0812302808, 16.0241366223], 'Speed': [8.5697905356, 6.14773525498, 8.17334896826, 9.18641099669, 9.67182942504, 9.92670744432, 10.165012287, 10.488594424, 10.4509079725, 10.4448183378, 10.3643934644, 10.1126134525, 9.60847823131, 9.10149386107, 8.29180867315, 8.09539004393, 8.06033195092, 8.09296735326, 8.09154750971, 8.14970879774, 8.05582195582, 7.77574857921, 7.44530344035, 7.20260404579, 6.9849719472, 8.67448891296, 7.91342260964, 6.70142355208, 4.79092002981, 4.35105236445, 5.89337630969, 7.6777773344, 9.25971519088, 10.4721132335, 11.1899880262, 12.0579364367, 12.1848116885, 12.5483145684, 15.7870248655, 14.659391912, 14.0028060319, 15.1855690715], 'AgentType': 1, 'Estimate': '[[1], [0], [0], [0], [0], [0], [0], [0], [0], [0], [0], [0], [0], [0], [0], [0], [0], [0], [0], [0], [0], [0], [0], [0], [0], [0], [0], [0], [0], [1], [0], [0], [0], [0], [0], [0], [0], [0], [0], [0], [0], [0]]', 'csvFile': 1}]\n"
     ]
    }
   ],
   "source": [
    "restructured_data = readFromCsvFile()"
   ]
  },
  {
   "cell_type": "code",
   "execution_count": 7,
   "metadata": {},
   "outputs": [],
   "source": [
    "def getFeatures(instance):\n",
    "    id = instance['ID']\n",
    "    t = instance['DateTime']\n",
    "    ts = np.ravel(instance['Sec']) # Array of timestamps?? Example: 1504545880.957 = Monday, September 4, 2017 5:24:40.957 PM\n",
    "    x = np.array(instance['Xcoord'])\n",
    "    y = np.ravel(instance['Ycoord'])\n",
    "    v = np.ravel(instance['Speed']) # Speed at every coordinate (x, y) (km/h)\n",
    "    type = instance['AgentType'] # Type 2 = car and 1 = bicycle?\n",
    "    estimate = np.ravel(instance['Estimate']) # Don't use!\n",
    "    csv = instance['csvFile'] # Don't use!\n",
    "\n",
    "    # Time difference based on ts\n",
    "    # timeDiffWithOneLessValue = np.diff(ts) # time difference between coordinates in Seconds\n",
    "    # timeDiff = np.insert(timeDiffWithOneLessValue, 0, [0], axis=0) # Seconds\n",
    "    \n",
    "    # Time difference based on t\n",
    "    # timeDiffTWithOneLessValue = np.diff(t)*24*60*60 # time difference between coordinates in days?\n",
    "    # timeDiffT = np.insert(timeDiffTWithOneLessValue, 0, [0], axis=0)\n",
    "\n",
    "    #distance_in_meters = (v*10/36) * timeDiff # Meters\n",
    "   \n",
    "    \n",
    "    return id, t, ts, x, y, v, type"
   ]
  },
  {
   "cell_type": "markdown",
   "metadata": {},
   "source": [
    "# Plotting"
   ]
  },
  {
   "cell_type": "code",
   "execution_count": 8,
   "metadata": {},
   "outputs": [],
   "source": [
    "def drawConflictZone():\n",
    "    A = [-4, 8]\n",
    "    B = [1, 6]\n",
    "    C = [-3, -4]\n",
    "    D = [-8, -2]\n",
    "    conflictZoneX = []\n",
    "    \n",
    "    plt.plot(A[0], A[1], 'b+')  # plot x and y using blue circle markers\n",
    "    plt.plot(B[0], B[1], 'b+')\n",
    "    plt.plot(C[0], C[1], 'b+')\n",
    "    plt.plot(D[0], D[1], 'b+')\n",
    "    \n",
    "    #plt.text(A[0], A[0], 'A', fontsize=9)\n",
    "    #plt.text(B[0], B[0], 'B', fontsize=9)\n",
    "    #plt.text(C[0], C[0], 'C', fontsize=9)\n",
    "    #plt.text(D[0], D[0], 'D', fontsize=9)\n",
    "    \n",
    "    plt.plot([A[0], B[0], C[0], D[0], A[0]], [A[1], B[1], C[1], D[1], A[1]], color='magenta', linewidth=1)"
   ]
  },
  {
   "cell_type": "code",
   "execution_count": 9,
   "metadata": {},
   "outputs": [],
   "source": [
    "def animateTrajectoryAndPlotConflictZone():\n",
    "    animateTrajectories()\n",
    "    drawConflictZone()"
   ]
  },
  {
   "cell_type": "markdown",
   "metadata": {},
   "source": [
    "## Helper functions"
   ]
  },
  {
   "cell_type": "code",
   "execution_count": 10,
   "metadata": {},
   "outputs": [],
   "source": [
    "def getBicyclesAndCardFromAllInteractions(interactions):\n",
    "    cars = []\n",
    "    bicycles = []\n",
    "    \n",
    "    for interaction_id in interactions:\n",
    "        interaction = interactions[interaction_id]\n",
    "        \n",
    "        for instance in interaction:\n",
    "        \n",
    "            # print('--- agent', instance)\n",
    "\n",
    "            id, t, ts, x, y, v, type = getFeatures(instance)\n",
    "\n",
    "            # Bicycle\n",
    "            if (type == 1):\n",
    "                bicycles.append(instance)\n",
    "\n",
    "            # Car\n",
    "            if (type == 2):\n",
    "                cars.append(instance)\n",
    "            \n",
    "    return cars, bicycles"
   ]
  },
  {
   "cell_type": "markdown",
   "metadata": {},
   "source": [
    "## Compute Features & write to new csv"
   ]
  },
  {
   "cell_type": "markdown",
   "metadata": {},
   "source": [
    "### Compute \"bicycle distance from the conflict zone\" at each timestamp"
   ]
  },
  {
   "cell_type": "code",
   "execution_count": 11,
   "metadata": {},
   "outputs": [],
   "source": [
    "def getConflictZoneCoordinates():\n",
    "    A = [-4, 8]\n",
    "    B = [1, 6]\n",
    "    C = [-3, -4]\n",
    "    D = [-8, -2]\n",
    "    \n",
    "    return A, B, C, D\n",
    "\n",
    "def getCenterOfAB():\n",
    "    A, B, C, D = getConflictZoneCoordinates()\n",
    "    \n",
    "    X_coordinate_of_AB_center = (A[0] + B[0])/2\n",
    "    Y_coordinate_of_AB_center = (A[1] + B[1])/2\n",
    "    \n",
    "    center = [X_coordinate_of_AB_center, Y_coordinate_of_AB_center]\n",
    "    return center\n",
    "\n",
    "def getCenterOfCD():\n",
    "    A, B, C, D = getConflictZoneCoordinates()\n",
    "    \n",
    "    X_coordinate_of_CD_center = (C[0] + D[0])/2\n",
    "    Y_coordinate_of_CD_center = (C[1] + D[1])/2\n",
    "    \n",
    "    center = [X_coordinate_of_CD_center, Y_coordinate_of_CD_center]\n",
    "    return center\n",
    "\n",
    "def getDistanceFromAB(x_coordinate, y_coordinate):\n",
    "    AB_center = getCenterOfAB()\n",
    "    \n",
    "    XY = np.array([x_coordinate, y_coordinate], dtype='uint8')\n",
    "    AB = np.array(AB_center, dtype='uint8')\n",
    "        \n",
    "    dist = distance.euclidean(XY, AB)\n",
    "        \n",
    "    return dist\n",
    "\n",
    "def getDistanceFromCD(x_coordinate, y_coordinate):\n",
    "    CD_center = getCenterOfCD()\n",
    "    \n",
    "    XY = np.array([x_coordinate, y_coordinate], dtype='uint8')\n",
    "    CD = np.array(CD_center, dtype='uint8')\n",
    "        \n",
    "    dist = distance.euclidean(XY, CD)\n",
    "        \n",
    "    return dist\n",
    "\n",
    "def getDistanceFromABPerEachTimestamp(instance_x_coordinates, instance_y_coordinates):\n",
    "    AB_center = getCenterOfAB()\n",
    "    \n",
    "    agents_distances_from_conflictZone = []\n",
    "    \n",
    "    for i, x in enumerate(instance_x_coordinates):\n",
    "        y = instance_y_coordinates[i]\n",
    "        \n",
    "        dist = getDistanceFromAB(x, y)\n",
    "        #print('distance: ', dist)\n",
    "        \n",
    "        agents_distances_from_conflictZone.append(dist)\n",
    "    return agents_distances_from_conflictZone\n",
    "    \n",
    "def getDistanceFromCDPerEachTimestamp(instance_x_coordinates, instance_y_coordinates):\n",
    "    CD_center = getCenterOfCD()\n",
    "    \n",
    "    agents_distances_from_conflictZone = []\n",
    "    \n",
    "    for i, x in enumerate(instance_x_coordinates):\n",
    "        y = instance_y_coordinates[i]\n",
    "        \n",
    "        dist = getDistanceFromCD(x, y)\n",
    "        \n",
    "        agents_distances_from_conflictZone.append(dist)\n",
    "    return agents_distances_from_conflictZone"
   ]
  },
  {
   "cell_type": "markdown",
   "metadata": {
    "scrolled": true
   },
   "source": [
    "# ------------------------------ Delete below & import ----------------------------------"
   ]
  },
  {
   "cell_type": "code",
   "execution_count": 12,
   "metadata": {},
   "outputs": [],
   "source": [
    "def getMaxMinXCoordinate(instances):\n",
    "    maxXCoordinate = 0\n",
    "    minXCoordinate = 10000000000\n",
    "\n",
    "    for i in instances:\n",
    "        xCoordinateMax = max(instances[i]['Xcoord'])[0]\n",
    "        xCoordinateMin = min(instances[i]['Xcoord'])[0]\n",
    "        \n",
    "        if (maxXCoordinate < xCoordinateMax):\n",
    "            maxXCoordinate = xCoordinateMax\n",
    "            \n",
    "        if (minXCoordinate > xCoordinateMin):\n",
    "            minXCoordinate = xCoordinateMin\n",
    "            \n",
    "    return maxXCoordinate, minXCoordinate\n",
    "\n",
    "\n",
    "def getMaxMinYCoordinate(instances):\n",
    "    maxYCoordinate = 0\n",
    "    minYCoordinate = 10000000000\n",
    "\n",
    "    for i in instances:\n",
    "        yCoordinateMax = max(instances[i]['Ycoord'])[0]\n",
    "        yCoordinateMin = min(instances[i]['Ycoord'])[0]\n",
    "        \n",
    "        if (maxYCoordinate < yCoordinateMax):\n",
    "            maxYCoordinate = yCoordinateMax\n",
    "            \n",
    "        if (minYCoordinate > yCoordinateMin):\n",
    "            minYCoordinate = yCoordinateMin\n",
    "            \n",
    "    return maxYCoordinate, minYCoordinate\n",
    "\n",
    "def getLongestSecondsArrayLength(instances):\n",
    "    longestLength = 0\n",
    "\n",
    "    for i in instances:\n",
    "        length = len(instances[i]['Sec'])\n",
    "        \n",
    "        if (longestLength < length):\n",
    "            longestLength = length\n",
    "                \n",
    "    return longestLength\n",
    "\n",
    "def getAllTimeSteps(instances):\n",
    "    allTimeStamps = []\n",
    "\n",
    "    for i in instances:\n",
    "        timeStamps = np.ravel(instances[i]['Sec'])\n",
    "        allTimeStamps.extend(timeStamps)\n",
    "     \n",
    "    allTimeStamps.sort()\n",
    "    return allTimeStamps\n",
    "\n",
    "def findIndexOfTimeStamp(instance, timeStamp):\n",
    "    timeStamps = np.ravel(instance['Sec'])\n",
    "\n",
    "    try:\n",
    "        index = timeStamps.tolist().index(timeStamp)\n",
    "        return index\n",
    "    \n",
    "    except:\n",
    "        return None\n"
   ]
  },
  {
   "cell_type": "code",
   "execution_count": 17,
   "metadata": {},
   "outputs": [],
   "source": [
    "def animateTrajectories(instances, index=0, name_suffix='', saveAsVideo=True, showPlot=True):\n",
    "\n",
    "    print('Number of instances interacting (1 car + bicycles)', len(instances))\n",
    "    print('Graph index: ', index)\n",
    "\n",
    "    green = '#00cc00' # Cyclist\n",
    "    blue = '#33ccff' # Car\n",
    "    \n",
    "    maxX, minX = getMaxMinXCoordinate(instances)\n",
    "    maxY, minY = getMaxMinYCoordinate(instances)\n",
    "    \n",
    "    # First set up the figure, the axis, and the plot element we want to animate\n",
    "    fig = plt.figure()\n",
    "    ax = plt.axes(xlim=(minX, maxX), ylim=(minY, maxY))\n",
    "    plt.grid(b=True, color='r')\n",
    "\n",
    "    instance_array = []\n",
    "    \n",
    "    for key in instances:\n",
    "        instance = instances[key] \n",
    "        instance_array.append(instance)\n",
    "    \n",
    "    \n",
    "    lines = []\n",
    "    \n",
    "    # Let's cretae a line for each instance who interacted\n",
    "    for i in range(len(instance_array)):\n",
    "        \n",
    "        instance = instance_array[i]\n",
    "        id, t, ts, x_coord, y_coord, v, type, timeDiff = getFeatures(instance)\n",
    "        line_color = green if type == 1 else blue\n",
    "        \n",
    "        instance['LastIndex'] = 0\n",
    "        \n",
    "        line, = ax.plot([], [], line_color, lw=1)\n",
    "        lines.append(line)\n",
    "        \n",
    "    \n",
    "    \n",
    "    def init():\n",
    "        i = 0\n",
    "        while i < len(instance_array):\n",
    "            lines[i].set_data([], [])\n",
    "            i+=1\n",
    "\n",
    "        return lines\n",
    "\n",
    "    # Gets input timestamp from frames\n",
    "    def animate(timestamp):        \n",
    "        n=0\n",
    "        while n < len(lines):\n",
    "            \n",
    "            formattedTs =  datetime.utcfromtimestamp(timestamp).strftime('%Y-%m-%d %H:%M:%S')\n",
    "            plt.title(formattedTs)\n",
    "            \n",
    "            index = findIndexOfTimeStamp(instance_array[n], timestamp)\n",
    "           \n",
    "            \n",
    "            if (index != None):\n",
    "                instance_array[n]['LastIndex'] = index\n",
    "                \n",
    "            \n",
    "            currentIndex = instance_array[n]['LastIndex']\n",
    "\n",
    "            x = instance_array[n]['Xcoord'][:currentIndex]\n",
    "            y = instance_array[n]['Ycoord'][:currentIndex]\n",
    "            \n",
    "            lines[n].set_data(x, y)\n",
    "            n+=1\n",
    "            \n",
    "        return lines\n",
    "\n",
    "    timeSteps = getAllTimeSteps(instances)\n",
    "    \n",
    "    # Call the animator. blit=True means only re-draw the parts that have changed\n",
    "    anim = animation.FuncAnimation(fig, func=animate, init_func=init, frames=timeSteps, interval=100, blit=True)\n",
    "\n",
    "    if saveAsVideo == True:\n",
    "        video_name = 'basic_animation_{}_{}.mp4'.format(name_suffix, index)\n",
    "        anim.save(video_name, fps=30, extra_args=['-vcodec', 'libx264'])\n",
    "\n",
    "    if showPlot == True:\n",
    "        plt.show()\n"
   ]
  },
  {
   "cell_type": "markdown",
   "metadata": {},
   "source": [
    "# ------------------------------------------------------------------------"
   ]
  },
  {
   "cell_type": "code",
   "execution_count": 18,
   "metadata": {},
   "outputs": [],
   "source": [
    "def getBicycleDistanceFromConflictZone(instance):\n",
    "    \n",
    "    id, t, ts, x, y, v, type = getFeatures(instance)\n",
    "    \n",
    "    # Let's see if the bicycle is coming from north or south\n",
    "    initial_position_x = x[0]\n",
    "    initial_position_y = y[0]\n",
    "    dist_from_AB = getDistanceFromAB(initial_position_x, initial_position_y)\n",
    "    dist_from_CD = getDistanceFromCD(initial_position_x, initial_position_y)\n",
    "    \n",
    "    print('Coming from north: ', dist_from_CD > dist_from_AB)\n",
    "    \n",
    "    \n",
    "    # ---- The data type of arrays is not correct ----\n",
    "    \n",
    "    distancesFromAB = getDistanceFromABPerEachTimestamp(x, y)\n",
    "    distancesFromCD = getDistanceFromCDPerEachTimestamp(x, y)\n",
    "    \n",
    "    print('Distance from north border at the beginning:', distancesFromAB[0])\n",
    "    print('Distance from north border at the end:', distancesFromAB[-1])\n",
    "    \n",
    "    plt.figure()\n",
    "    plt.title('Distance from conflict zone north (above) border - green is distance from AB')\n",
    "    plt.plot(distancesFromAB, color='#00cc00')\n",
    "    plt.plot(distancesFromCD)\n",
    "    plt.show()\n",
    "    \n",
    "    # Now we can understand whether the bicycle is coming from north or south\n",
    "    \n",
    "    "
   ]
  },
  {
   "cell_type": "code",
   "execution_count": 19,
   "metadata": {},
   "outputs": [],
   "source": [
    "def calculateDistancesFromConflictZoneForAllBicycle(bicycles):\n",
    "    test_bicycles = []\n",
    "    \n",
    "    for i, bicycle in enumerate(bicycles):\n",
    "        #print('bicyclebicycle ----', bicycle)\n",
    "        \n",
    "        if i < 3: \n",
    "            test_bicycles.append(bicycle)\n",
    "            getBicycleDistanceFromConflictZone(bicycle)\n",
    "            \n",
    "            id, t, ts, x, y, v, type = getFeatures(bicycle)\n",
    "\n",
    "            # Let's also draw trajectory and conflict zone\n",
    "            plt.figure()\n",
    "            plt.title('Conflict zone & bicycle trajectory')\n",
    "            drawConflictZone()\n",
    "            plt.plot(x, y)\n",
    "            plt.show()\n",
    "            \n",
    "        \n",
    "        #if len(test_bicycles) >= 2: \n",
    "            #animateTrajectories(test_bicycles, i, name_suffix='testing_conflict_zone')"
   ]
  },
  {
   "cell_type": "code",
   "execution_count": 20,
   "metadata": {
    "scrolled": false
   },
   "outputs": [
    {
     "name": "stdout",
     "output_type": "stream",
     "text": [
      "Coming from north:  False\n",
      "Distance from north border at the beginning: 342.9825068425502\n",
      "Distance from north border at the end: 9.486832980505138\n"
     ]
    },
    {
     "data": {
      "image/png": "[encoded data removed]",
      "text/plain": [
       "<Figure size 432x288 with 1 Axes>"
      ]
     },
     "metadata": {
      "needs_background": "light"
     },
     "output_type": "display_data"
    },
    {
     "data": {
      "image/png": "[encoded data removed]",
      "text/plain": [
       "<Figure size 432x288 with 1 Axes>"
      ]
     },
     "metadata": {
      "needs_background": "light"
     },
     "output_type": "display_data"
    },
    {
     "name": "stdout",
     "output_type": "stream",
     "text": [
      "Coming from north:  True\n",
      "Distance from north border at the beginning: 14.317821063276353\n",
      "Distance from north border at the end: 350.0528531522061\n"
     ]
    },
    {
     "data": {
      "image/png": "[encoded data removed]",
      "text/plain": [
       "<Figure size 432x288 with 1 Axes>"
      ]
     },
     "metadata": {
      "needs_background": "light"
     },
     "output_type": "display_data"
    },
    {
     "data": {
      "image/png": "[encoded data removed]",
      "text/plain": [
       "<Figure size 432x288 with 1 Axes>"
      ]
     },
     "metadata": {
      "needs_background": "light"
     },
     "output_type": "display_data"
    },
    {
     "name": "stdout",
     "output_type": "stream",
     "text": [
      "Coming from north:  True\n",
      "Distance from north border at the beginning: 21.213203435596427\n",
      "Distance from north border at the end: 343.6568055487917\n"
     ]
    },
    {
     "data": {
      "image/png": "[encoded data removed]",
      "text/plain": [
       "<Figure size 432x288 with 1 Axes>"
      ]
     },
     "metadata": {
      "needs_background": "light"
     },
     "output_type": "display_data"
    },
    {
     "data": {
      "image/png": "[encoded data removed]",
      "text/plain": [
       "<Figure size 432x288 with 1 Axes>"
      ]
     },
     "metadata": {
      "needs_background": "light"
     },
     "output_type": "display_data"
    }
   ],
   "source": [
    "cars, bicycles = getBicyclesAndCardFromAllInteractions(restructured_data)\n",
    "calculateDistancesFromConflictZoneForAllBicycle(bicycles)\n",
    "\n"
   ]
  },
  {
   "cell_type": "code",
   "execution_count": null,
   "metadata": {},
   "outputs": [],
   "source": []
  }
 ],
 "metadata": {
  "kernelspec": {
   "display_name": "Python 3",
   "language": "python",
   "name": "python3"
  },
  "language_info": {
   "codemirror_mode": {
    "name": "ipython",
    "version": 3
   },
   "file_extension": ".py",
   "mimetype": "text/x-python",
   "name": "python",
   "nbconvert_exporter": "python",
   "pygments_lexer": "ipython3",
   "version": "3.8.3"
  }
 },
 "nbformat": 4,
 "nbformat_minor": 4
}
